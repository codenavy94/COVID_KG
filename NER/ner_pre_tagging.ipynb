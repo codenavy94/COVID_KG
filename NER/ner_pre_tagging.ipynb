{
 "cells": [
  {
   "cell_type": "code",
   "execution_count": 28,
   "metadata": {},
   "outputs": [],
   "source": [
    "import pandas as pd\n",
    "from tqdm import tqdm"
   ]
  },
  {
   "cell_type": "code",
   "execution_count": 22,
   "metadata": {},
   "outputs": [],
   "source": [
    "# NE TAG에 대한 딕셔너리 형성 {TAG_NAME : [엔티티1, 엔티티2, 엔티티3, ...]}\n",
    "ne_tag_dict = pd.read_csv('../data/ne_tag_dict.csv')\n",
    "\n",
    "ne_dict = dict()\n",
    "ne_dict['VACC-B'] = list(ne_tag_dict['VACC'][ne_tag_dict['VACC'].notna()].values)\n",
    "ne_dict['DIS-B'] = list(ne_tag_dict['DIS'][ne_tag_dict['DIS'].notna()].values)\n",
    "ne_dict['SYMP-B'] = list(ne_tag_dict['SYMP'][ne_tag_dict['SYMP'].notna()].values)\n"
   ]
  },
  {
   "cell_type": "code",
   "execution_count": 32,
   "metadata": {},
   "outputs": [
    {
     "data": {
      "text/plain": [
       "['전두환 전 대통령이 코로나19 화이자 백신을 접종한 뒤에 건강이 급격히 악화됐다는 전 씨 측 주장이 제기된 가운데 이에 대해 이재갑 한림대 감염내과 교수는 \"가당치도 않은 주장\"이라고 지적하고 나섰습니다 .',\n",
       " '이재갑 한림대 감염내과 교수는 25일 CBS 라디오 \\'김현정의 뉴스쇼\\'와의 인터뷰에서 전 씨 사망 원인으로 코로나 백신 부작용이 언급된 것에 대해 \"사실 가당치도 않은 주장\"이라며 \"최근에 혈액종양내과 교수님들이 여러 번 말씀드리긴 했는데 혈액암, 백혈병하고 코로나 백신하고 관련이 없다\"고 선을 그었습니다 .',\n",
       " '이 교수는 \"전 세계적으로 관련이 증명된 사례는 전혀 없는 상황이고 다른 백신에서도 사례가 전혀 없다\"며 \"지금까지는 인과관계가 없다\"고 강조했습니다 .',\n",
       " '특히 \"전 전 대통령이 걸린 만성골수성백혈병 같은 경우는 원래 꽤 오래 전부터 시작되면서 서서히 시작되는 백혈병 중에 하나이기 때문에 그럴 가능성은 훨씬 더 떨어진다고 볼 수 있다\"고 전했습니다. \\'백혈병이 급성으로 오기도 하지 않느냐\\'는 진행자의 질문에는 \"급성 백혈병도 현재까지 인과관계가 증명된 사례는 없다\"고 전 씨의 사망 원인에 백신 부작용이 있다는 주장에 대해 다시 한 번 선을 그었습니다 .',\n",
       " '한편, 전 씨는 지난 23일 오전 8시 40분쯤 연희동 자택에서 쓰러져 숨졌습니다 .',\n",
       " '이에 대해 전 씨 최측근 민정기 전 청와대 공보비서관은 \"화이자 백신 접종 후 혈액암에 걸렸으며 부작용이 의심된다\"는 주장을 펼쳤습니다 .',\n",
       " '민 전 비서관은 \"지난 6, 7월쯤 찾아뵀는데 굉장히 수척해진 모습으로 건강이 좋아 보이지 않았다\"며 \"부인 이순자 여사께 ‘왜 그러시느냐’고 물었더니 ‘백신 맞은 후 식사를 잘 못 하셔서 체중이 10㎏가량 줄었다’더라\"고 말했습니다 .',\n",
       " '이후 손영래 보건복지부 중앙사고수습본부 사회전략반장은 24일 정례브리핑에서 관련 질문을 받은 후 \"만약 예방 접종 후 영향이 있는 문제라면 이상 반응 신고 등의 절차를 거쳐 조사하게 되겠지만 그러한 절차가 진행되지 않는다면 저희(정부)가 지금 판단할 수 있는 부분들은 그렇게 많지는 않다\"며 \"정부가 절차에 따라 조사를 진행할 것\"이라고 밝힌 바 있습니다 .',\n",
       " '민정기 전 청와대 공보비서관이 지난 23일 사망한 전두환 전 대통령이 화이자사(社)의 신종 코로나바이러스 감염증(코로나19) 예방 백신을 접종받은 후 부작용으로 혈액암에 걸렸다는 취지의 발언을 해 파문이 일었다 .',\n",
       " '이에 정부는 다른 사례들과 마찬가지로 절차에 따라 이상 반응 여부를 조사하겠단 방침을 밝혔다 .']"
      ]
     },
     "execution_count": 32,
     "metadata": {},
     "output_type": "execute_result"
    }
   ],
   "source": [
    "# 뉴스 기사 불러오기\n",
    "with open('../data/sentence_split.txt', encoding='utf-8') as f:\n",
    "    news = f.read()\n",
    "    \n",
    "news = news.replace('.\\n', ' .\\n').splitlines()\n",
    "news[:10]"
   ]
  },
  {
   "cell_type": "code",
   "execution_count": 33,
   "metadata": {},
   "outputs": [
    {
     "name": "stderr",
     "output_type": "stream",
     "text": [
      "100%|██████████| 4044/4044 [00:00<00:00, 24426.08it/s]\n"
     ]
    },
    {
     "data": {
      "text/plain": [
       "['전두환 O 전 O 대통령이 O 코로나19 O 화이자 VACC-B 백신을 O 접종한 O 뒤에 O 건강이 O 급격히 O 악화됐다는 O 전 O 씨 O 측 O 주장이 O 제기된 O 가운데 O 이에 O 대해 O 이재갑 O 한림대 O 감염내과 O 교수는 O 가당치도 O 않은 O 주장이라고 O 지적하고 O 나섰습니다 O . O',\n",
       " '이재갑 O 한림대 O 감염내과 O 교수는 O 25일 O CBS O 라디오 O 김현정의 O 뉴스쇼와의 O 인터뷰에서 O 전 O 씨 O 사망 O 원인으로 O 코로나 O 백신 O 부작용이 O 언급된 O 것에 O 대해 O 사실 O 가당치도 O 않은 O 주장이라며 O 최근에 O 혈액종양내과 O 교수님들이 O 여러 O 번 O 말씀드리긴 O 했는데 O 혈액암, O 백혈병하고 O 코로나 O 백신하고 O 관련이 O 없다고 O 선을 O 그었습니다 O . O',\n",
       " '이 O 교수는 O 전 O 세계적으로 O 관련이 O 증명된 O 사례는 O 전혀 O 없는 O 상황이고 O 다른 O 백신에서도 O 사례가 O 전혀 O 없다며 O 지금까지는 O 인과관계가 O 없다고 O 강조했습니다 O . O',\n",
       " '특히 O 전 O 전 O 대통령이 O 걸린 O 만성골수성백혈병 O 같은 O 경우는 O 원래 O 꽤 O 오래 O 전부터 O 시작되면서 O 서서히 O 시작되는 O 백혈병 O 중에 O 하나이기 O 때문에 O 그럴 O 가능성은 O 훨씬 O 더 O 떨어진다고 O 볼 O 수 O 있다고 O 전했습니다. O 백혈병이 O 급성으로 O 오기도 O 하지 O 않느냐는 O 진행자의 O 질문에는 O 급성 O 백혈병도 O 현재까지 O 인과관계가 O 증명된 O 사례는 O 없다고 O 전 O 씨의 O 사망 O 원인에 O 백신 O 부작용이 O 있다는 O 주장에 O 대해 O 다시 O 한 O 번 O 선을 O 그었습니다 O . O',\n",
       " '한편, O 전 O 씨는 O 지난 O 23일 O 오전 O 8시 O 40분쯤 O 연희동 O 자택에서 O 쓰러져 O 숨졌습니다 O . O',\n",
       " '이에 O 대해 O 전 O 씨 O 최측근 O 민정기 O 전 O 청와대 O 공보비서관은 O 화이자 VACC-B 백신 O 접종 O 후 O 혈액암에 O 걸렸으며 O 부작용이 O 의심된다는 O 주장을 O 펼쳤습니다 O . O',\n",
       " '민 O 전 O 비서관은 O 지난 O 6, O 7월쯤 O 찾아뵀는데 O 굉장히 O 수척해진 O 모습으로 O 건강이 O 좋아 O 보이지 O 않았다며 O 부인 O 이순자 O 여사께 O ‘왜 O 그러시느냐’고 O 물었더니 O ‘백신 O 맞은 O 후 O 식사를 O 잘 O 못 O 하셔서 O 체중이 O 10㎏가량 O 줄었다’더라고 O 말했습니다 O . O',\n",
       " '이후 O 손영래 O 보건복지부 O 중앙사고수습본부 O 사회전략반장은 O 24일 O 정례브리핑에서 O 관련 O 질문을 O 받은 O 후 O 만약 O 예방 O 접종 O 후 O 영향이 O 있는 O 문제라면 O 이상 O 반응 O 신고 O 등의 O 절차를 O 거쳐 O 조사하게 O 되겠지만 O 그러한 O 절차가 O 진행되지 O 않는다면 O 저희(정부)가 O 지금 O 판단할 O 수 O 있는 O 부분들은 O 그렇게 O 많지는 O 않다며 O 정부가 O 절차에 O 따라 O 조사를 O 진행할 O 것이라고 O 밝힌 O 바 O 있습니다 O . O',\n",
       " '민정기 O 전 O 청와대 O 공보비서관이 O 지난 O 23일 O 사망한 O 전두환 O 전 O 대통령이 O 화이자사(社)의 O 신종 O 코로나바이러스 O 감염증(코로나19) O 예방 O 백신을 O 접종받은 O 후 O 부작용으로 O 혈액암에 O 걸렸다는 O 취지의 O 발언을 O 해 O 파문이 O 일었다 O . O',\n",
       " '이에 O 정부는 O 다른 O 사례들과 O 마찬가지로 O 절차에 O 따라 O 이상 O 반응 O 여부를 O 조사하겠단 O 방침을 O 밝혔다 O . O']"
      ]
     },
     "execution_count": 33,
     "metadata": {},
     "output_type": "execute_result"
    }
   ],
   "source": [
    "# 딕셔너리 매칭을 통해 수동 태깅 전 사전 태깅작업 진행\n",
    "news_sents_tagged = []\n",
    "\n",
    "for sent in tqdm(news):\n",
    "    tag_lst = []\n",
    "    token_lst = sent.replace('\\\"', '').replace(\"\\'\", \"\").split() # 따옴표, 쌍따옴표 기호 제거\n",
    "    \n",
    "    for token in token_lst:\n",
    "        if token in ne_dict['VACC-B']:\n",
    "            tag_lst.append('VACC-B')\n",
    "        elif token in ne_dict['DIS-B']:\n",
    "            tag_lst.append('DIS-B')\n",
    "        elif token in ne_dict['SYMP-B']:\n",
    "            tag_lst.append('SYMP-B')\n",
    "        else:\n",
    "            tag_lst.append('O')\n",
    "    \n",
    "    token_tag_pairs = [token + ' ' + tag for token, tag in zip(token_lst, tag_lst)]  \n",
    "    news_sents_tagged.append(' '.join(token_tag_pairs))\n",
    "    \n",
    "news_sents_tagged[:10]"
   ]
  },
  {
   "cell_type": "code",
   "execution_count": 35,
   "metadata": {},
   "outputs": [],
   "source": [
    "with open('../data/pre_tagged_sents.txt', 'w', encoding='utf-8') as f:\n",
    "    for tagged_sent in news_sents_tagged:\n",
    "        f.write(tagged_sent + '\\n')"
   ]
  },
  {
   "cell_type": "code",
   "execution_count": 37,
   "metadata": {},
   "outputs": [],
   "source": [
    "tagged_sents_df = pd.DataFrame(news_sents_tagged, columns=['tagged_sent'])\n",
    "tagged_sents_df.to_csv('../data/pre_tagged_sents.csv', index=False, encoding='utf-8')"
   ]
  },
  {
   "cell_type": "code",
   "execution_count": null,
   "metadata": {},
   "outputs": [],
   "source": []
  }
 ],
 "metadata": {
  "interpreter": {
   "hash": "793d4bdf4aa091947cd8281459d6e8fe833d5ec676b0ac200c31417438349ef7"
  },
  "kernelspec": {
   "display_name": "Python 3.8.11 64-bit ('condaenv': conda)",
   "language": "python",
   "name": "python3"
  },
  "language_info": {
   "codemirror_mode": {
    "name": "ipython",
    "version": 3
   },
   "file_extension": ".py",
   "mimetype": "text/x-python",
   "name": "python",
   "nbconvert_exporter": "python",
   "pygments_lexer": "ipython3",
   "version": "3.8.11"
  },
  "orig_nbformat": 4
 },
 "nbformat": 4,
 "nbformat_minor": 2
}
