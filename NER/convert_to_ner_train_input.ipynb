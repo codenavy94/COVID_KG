{
 "cells": [
  {
   "cell_type": "code",
   "execution_count": 1,
   "metadata": {},
   "outputs": [],
   "source": [
    "import pandas as pd"
   ]
  },
  {
   "cell_type": "code",
   "execution_count": 5,
   "metadata": {},
   "outputs": [
    {
     "data": {
      "text/plain": [
       "['전두환 전 대통령이 코로나19 화이자 백신을 접종한 뒤에 건강이 급격히 악화됐다는 전 씨 측 주장이 제기된 가운데 이에 대해 이재갑 한림대 감염내과 교수는 가당치도 않은 주장이라고 지적하고 나섰습니다 .\\tO O O O VACC-B O O O O O O O O O O O O O O O O O O O O O O O O',\n",
       " '이재갑 한림대 감염내과 교수는 25일 CBS 라디오 김현정의 뉴스쇼와의 인터뷰에서 전 씨 사망 원인으로 코로나 백신 부작용이 언급된 것에 대해 사실 가당치도 않은 주장이라며 최근에 혈액종양내과 교수님들이 여러 번 말씀드리긴 했는데 혈액암, 백혈병하고 코로나 백신하고 관련이 없다고 선을 그었습니다 .\\tO O O O O O O O O O O O O O O O O O O O O O O O O O O O O O O O O O O O O O O O',\n",
       " '이 교수는 전 세계적으로 관련이 증명된 사례는 전혀 없는 상황이고 다른 백신에서도 사례가 전혀 없다며 지금까지는 인과관계가 없다고 강조했습니다 .\\tO O O O O O O O O O O O O O O O O O O O',\n",
       " '특히 전 전 대통령이 걸린 만성골수성백혈병 같은 경우는 원래 꽤 오래 전부터 시작되면서 서서히 시작되는 백혈병 중에 하나이기 때문에 그럴 가능성은 훨씬 더 떨어진다고 볼 수 있다고 전했습니다. 백혈병이 급성으로 오기도 하지 않느냐는 진행자의 질문에는 급성 백혈병도 현재까지 인과관계가 증명된 사례는 없다고 전 씨의 사망 원인에 백신 부작용이 있다는 주장에 대해 다시 한 번 선을 그었습니다 .\\tO O O O O O O O O O O O O O O O O O O O O O O O O O O O O O O O O O O O O O O O O O O O O O O O O O O O O O O O O',\n",
       " '한편, 전 씨는 지난 23일 오전 8시 40분쯤 연희동 자택에서 쓰러져 숨졌습니다 .\\tO O O O O O O O O O O O O',\n",
       " '이에 대해 전 씨 최측근 민정기 전 청와대 공보비서관은 화이자 백신 접종 후 혈액암에 걸렸으며 부작용이 의심된다는 주장을 펼쳤습니다 .\\tO O O O O O O O O VACC-B O O O O O O O O O O',\n",
       " '민 전 비서관은 지난 6, 7월쯤 찾아뵀는데 굉장히 수척해진 모습으로 건강이 좋아 보이지 않았다며 부인 이순자 여사께 ‘왜 그러시느냐’고 물었더니 ‘백신 맞은 후 식사를 잘 못 하셔서 체중이 10㎏가량 줄었다’더라고 말했습니다 .\\tO O O O O O O O O O O O O O O O O O O O O O O O O O O O O O O O',\n",
       " '이후 손영래 보건복지부 중앙사고수습본부 사회전략반장은 24일 정례브리핑에서 관련 질문을 받은 후 만약 예방 접종 후 영향이 있는 문제라면 이상 반응 신고 등의 절차를 거쳐 조사하게 되겠지만 그러한 절차가 진행되지 않는다면 저희(정부)가 지금 판단할 수 있는 부분들은 그렇게 많지는 않다며 정부가 절차에 따라 조사를 진행할 것이라고 밝힌 바 있습니다 .\\tO O O O O O O O O O O O O O O O O O O O O O O O O O O O O O O O O O O O O O O O O O O O O O O O O',\n",
       " '민정기 전 청와대 공보비서관이 지난 23일 사망한 전두환 전 대통령이 화이자사(社)의 신종 코로나바이러스 감염증(코로나19) 예방 백신을 접종받은 후 부작용으로 혈액암에 걸렸다는 취지의 발언을 해 파문이 일었다 .\\tO O O O O O O O O O O O O O O O O O O O O O O O O O O',\n",
       " '이에 정부는 다른 사례들과 마찬가지로 절차에 따라 이상 반응 여부를 조사하겠단 방침을 밝혔다 .\\tO O O O O O O O O O O O O O']"
      ]
     },
     "execution_count": 5,
     "metadata": {},
     "output_type": "execute_result"
    }
   ],
   "source": [
    "# 태깅 완료된 csv 파일 불러오기\n",
    "data = pd.read_csv('../data/pre_tagged_sents.csv', encoding='utf-8')\n",
    "tagged_sents = list(data['tagged_sent'].values)\n",
    "final_lst = []\n",
    "\n",
    "for sent in tagged_sents:\n",
    "    sent_split = sent.split()\n",
    "    original_tokens = [sent_split[i] for i in range(0, len(sent_split), 2)]\n",
    "    tags = [sent_split[j] for j in range(1, len(sent_split), 2)]\n",
    "    final_lst.append(f\"{' '.join(original_tokens)}\\t{' '.join(tags)}\")\n",
    "    \n",
    "final_lst[:10]"
   ]
  },
  {
   "cell_type": "code",
   "execution_count": null,
   "metadata": {},
   "outputs": [],
   "source": [
    "with open('train.tsv', encoding='utf-8') as f:\n",
    "    for item in final_lst:\n",
    "        f.write(item + '\\n')"
   ]
  }
 ],
 "metadata": {
  "interpreter": {
   "hash": "793d4bdf4aa091947cd8281459d6e8fe833d5ec676b0ac200c31417438349ef7"
  },
  "kernelspec": {
   "display_name": "Python 3.8.11 64-bit ('condaenv': conda)",
   "language": "python",
   "name": "python3"
  },
  "language_info": {
   "codemirror_mode": {
    "name": "ipython",
    "version": 3
   },
   "file_extension": ".py",
   "mimetype": "text/x-python",
   "name": "python",
   "nbconvert_exporter": "python",
   "pygments_lexer": "ipython3",
   "version": "3.8.11"
  },
  "orig_nbformat": 4
 },
 "nbformat": 4,
 "nbformat_minor": 2
}
