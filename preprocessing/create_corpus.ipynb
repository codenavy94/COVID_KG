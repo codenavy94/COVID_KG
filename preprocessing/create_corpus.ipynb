{
 "cells": [
  {
   "cell_type": "code",
   "execution_count": 2,
   "metadata": {},
   "outputs": [],
   "source": [
    "import pandas as pd\n",
    "from kss import split_sentences\n",
    "from tqdm import tqdm"
   ]
  },
  {
   "cell_type": "code",
   "execution_count": 3,
   "metadata": {},
   "outputs": [
    {
     "data": {
      "text/html": [
       "<div>\n",
       "<style scoped>\n",
       "    .dataframe tbody tr th:only-of-type {\n",
       "        vertical-align: middle;\n",
       "    }\n",
       "\n",
       "    .dataframe tbody tr th {\n",
       "        vertical-align: top;\n",
       "    }\n",
       "\n",
       "    .dataframe thead th {\n",
       "        text-align: right;\n",
       "    }\n",
       "</style>\n",
       "<table border=\"1\" class=\"dataframe\">\n",
       "  <thead>\n",
       "    <tr style=\"text-align: right;\">\n",
       "      <th></th>\n",
       "      <th>press</th>\n",
       "      <th>title</th>\n",
       "      <th>url</th>\n",
       "      <th>content\\r</th>\n",
       "    </tr>\n",
       "  </thead>\n",
       "  <tbody>\n",
       "    <tr>\n",
       "      <th>0</th>\n",
       "      <td>MBN</td>\n",
       "      <td>전두환 백신 부작용 의심'에 이재갑 \"가당치도 않은 주장\"</td>\n",
       "      <td>http://mbn.mk.co.kr/pages/news/newsView.php?ca...</td>\n",
       "      <td>전두환 전 대통령이 코로나19 화이자 백신을 접종한 뒤에 건강이 급격히 악화됐다는 ...</td>\n",
       "    </tr>\n",
       "    <tr>\n",
       "      <th>1</th>\n",
       "      <td>세계일보</td>\n",
       "      <td>‘전두환, 코로나 백신 부작용으로 사망’ 주장에 정부 “절차 따라 조사할 것”</td>\n",
       "      <td>http://www.segye.com/content/html/2021/11/24/2...</td>\n",
       "      <td>민정기 전 청와대 공보비서관이 지난 23일 사망한 전두환 전 대통령이 화이자사(社)...</td>\n",
       "    </tr>\n",
       "    <tr>\n",
       "      <th>2</th>\n",
       "      <td>조선일보</td>\n",
       "      <td>정은경 부스터샷 맞은 날…백신 피해 유족 “내 딸 살려내” 길 막고 항의</td>\n",
       "      <td>https://www.chosun.com/national/national_gener...</td>\n",
       "      <td>코로나 백신 부작용으로 가족이 사망했다고 주장하는 유족들이 19일 정은경 질병관리청...</td>\n",
       "    </tr>\n",
       "    <tr>\n",
       "      <th>3</th>\n",
       "      <td>강원일보</td>\n",
       "      <td>당국 \"백신 접종 후 첫 사망신고 고3학생, 접종과 인과성 없다\"</td>\n",
       "      <td>http://www.kwnews.co.kr/nview.asp?aid=22111170...</td>\n",
       "      <td>코로나19 백신 접종 후 사망한 고3 학생 사례와 관련해 정부는 백신과의 인과성이 ...</td>\n",
       "    </tr>\n",
       "    <tr>\n",
       "      <th>4</th>\n",
       "      <td>세이프타임즈</td>\n",
       "      <td>코로나 백신 부작용 누구 책임 ? … '부스터샷' 꼭 맞아야 하나</td>\n",
       "      <td>http://www.safetimes.co.kr/news/articleView.ht...</td>\n",
       "      <td>위드 코로나가 시작되면서 위중증 환자가 500명 안팎을 넘나들어 백신 추가접종(부스...</td>\n",
       "    </tr>\n",
       "  </tbody>\n",
       "</table>\n",
       "</div>"
      ],
      "text/plain": [
       "    press                                        title  \\\n",
       "0     MBN             전두환 백신 부작용 의심'에 이재갑 \"가당치도 않은 주장\"   \n",
       "1    세계일보  ‘전두환, 코로나 백신 부작용으로 사망’ 주장에 정부 “절차 따라 조사할 것”   \n",
       "2    조선일보     정은경 부스터샷 맞은 날…백신 피해 유족 “내 딸 살려내” 길 막고 항의   \n",
       "3    강원일보         당국 \"백신 접종 후 첫 사망신고 고3학생, 접종과 인과성 없다\"   \n",
       "4  세이프타임즈         코로나 백신 부작용 누구 책임 ? … '부스터샷' 꼭 맞아야 하나   \n",
       "\n",
       "                                                 url  \\\n",
       "0  http://mbn.mk.co.kr/pages/news/newsView.php?ca...   \n",
       "1  http://www.segye.com/content/html/2021/11/24/2...   \n",
       "2  https://www.chosun.com/national/national_gener...   \n",
       "3  http://www.kwnews.co.kr/nview.asp?aid=22111170...   \n",
       "4  http://www.safetimes.co.kr/news/articleView.ht...   \n",
       "\n",
       "                                           content\\r  \n",
       "0  전두환 전 대통령이 코로나19 화이자 백신을 접종한 뒤에 건강이 급격히 악화됐다는 ...  \n",
       "1  민정기 전 청와대 공보비서관이 지난 23일 사망한 전두환 전 대통령이 화이자사(社)...  \n",
       "2  코로나 백신 부작용으로 가족이 사망했다고 주장하는 유족들이 19일 정은경 질병관리청...  \n",
       "3  코로나19 백신 접종 후 사망한 고3 학생 사례와 관련해 정부는 백신과의 인과성이 ...  \n",
       "4  위드 코로나가 시작되면서 위중증 환자가 500명 안팎을 넘나들어 백신 추가접종(부스...  "
      ]
     },
     "execution_count": 3,
     "metadata": {},
     "output_type": "execute_result"
    }
   ],
   "source": [
    "data = pd.read_csv('../data/raw_data.tsv', sep='\\t', encoding='utf-8', lineterminator='\\n')\n",
    "data.head()"
   ]
  },
  {
   "cell_type": "code",
   "execution_count": 4,
   "metadata": {},
   "outputs": [],
   "source": [
    "with open('../scraping/government_info.txt', encoding='utf-8') as f:\n",
    "    gov_data = f.read()\n",
    "    \n",
    "gov_data = gov_data.split('\\n')"
   ]
  },
  {
   "cell_type": "code",
   "execution_count": 5,
   "metadata": {},
   "outputs": [],
   "source": [
    "content_lst = list(data['content\\r'].values)\n",
    "content_lst.extend(gov_data)"
   ]
  },
  {
   "cell_type": "code",
   "execution_count": 6,
   "metadata": {},
   "outputs": [
    {
     "name": "stderr",
     "output_type": "stream",
     "text": [
      "  0%|          | 0/371 [00:00<?, ?it/s][Korean Sentence Splitter]: Initializing Pynori...\n",
      "100%|██████████| 371/371 [58:30<00:00,  9.46s/it]\n"
     ]
    },
    {
     "data": {
      "text/plain": [
       "['전두환 전 대통령이 코로나19 화이자 백신을 접종한 뒤에 건강이 급격히 악화됐다는 전 씨 측 주장이 제기된 가운데 이에 대해 이재갑 한림대 감염내과 교수는 \"가당치도 않은 주장\"이라고 지적하고 나섰습니다.',\n",
       " '이재갑 한림대 감염내과 교수는 25일 CBS 라디오 \\'김현정의 뉴스쇼\\'와의 인터뷰에서 전 씨 사망 원인으로 코로나 백신 부작용이 언급된 것에 대해 \"사실 가당치도 않은 주장\"이라며 \"최근에 혈액종양내과 교수님들이 여러 번 말씀드리긴 했는데 혈액암, 백혈병하고 코로나 백신하고 관련이 없다\"고 선을 그었습니다.',\n",
       " '이 교수는 \"전 세계적으로 관련이 증명된 사례는 전혀 없는 상황이고 다른 백신에서도 사례가 전혀 없다\"며 \"지금까지는 인과관계가 없다\"고 강조했습니다.',\n",
       " '특히 \"전 전 대통령이 걸린 만성골수성백혈병 같은 경우는 원래 꽤 오래 전부터 시작되면서 서서히 시작되는 백혈병 중에 하나이기 때문에 그럴 가능성은 훨씬 더 떨어진다고 볼 수 있다\"고 전했습니다. \\'백혈병이 급성으로 오기도 하지 않느냐\\'는 진행자의 질문에는 \"급성 백혈병도 현재까지 인과관계가 증명된 사례는 없다\"고 전 씨의 사망 원인에 백신 부작용이 있다는 주장에 대해 다시 한 번 선을 그었습니다.',\n",
       " '한편, 전 씨는 지난 23일 오전 8시 40분쯤 연희동 자택에서 쓰러져 숨졌습니다.',\n",
       " '이에 대해 전 씨 최측근 민정기 전 청와대 공보비서관은 \"화이자 백신 접종 후 혈액암에 걸렸으며 부작용이 의심된다\"는 주장을 펼쳤습니다.',\n",
       " '민 전 비서관은 \"지난 6, 7월쯤 찾아뵀는데 굉장히 수척해진 모습으로 건강이 좋아 보이지 않았다\"며 \"부인 이순자 여사께 ‘왜 그러시느냐’고 물었더니 ‘백신 맞은 후 식사를 잘 못 하셔서 체중이 10㎏가량 줄었다’더라\"고 말했습니다.',\n",
       " '이후 손영래 보건복지부 중앙사고수습본부 사회전략반장은 24일 정례브리핑에서 관련 질문을 받은 후 \"만약 예방 접종 후 영향이 있는 문제라면 이상 반응 신고 등의 절차를 거쳐 조사하게 되겠지만 그러한 절차가 진행되지 않는다면 저희(정부)가 지금 판단할 수 있는 부분들은 그렇게 많지는 않다\"며 \"정부가 절차에 따라 조사를 진행할 것\"이라고 밝힌 바 있습니다.',\n",
       " '민정기 전 청와대 공보비서관이 지난 23일 사망한 전두환 전 대통령이 화이자사(社)의 신종 코로나바이러스 감염증(코로나19) 예방 백신을 접종받은 후 부작용으로 혈액암에 걸렸다는 취지의 발언을 해 파문이 일었다.',\n",
       " '이에 정부는 다른 사례들과 마찬가지로 절차에 따라 이상 반응 여부를 조사하겠단 방침을 밝혔다.',\n",
       " '손영래 보건복지부 중앙사고수습본부 사회전략반장은 24일 오전 중앙재난안전대책본부 정례브리핑에서 민정기 전 청와대 공보비서관 주장에 대한 정부 입장을 질의 받고 “정부가 절차에 따라 조사를 진행할 것”이라고 답했다.',\n",
       " '손 반장은 “지금 정확하게 입장을 알리기는 어려울 것 같다”면서도 “만약 예방접종 후 영향이 있는 문제라면 이상 반응 신고 등의 절차를 거쳐 조사하게 되겠지만 그러한 절차가 진행되지 않는다면 저희가 지금 판단할 수 있는 부분들은 그렇게 많지는 않다”고 언급했다.',\n",
       " '전 전 대통령은 23일 오전 8시40분쯤 서울 서대문구 연희동 자택에서 갑자기 쓰러져 사망했다.',\n",
       " '그는 지난 8월13일 ‘다발성 골수종’ 진단을 받고 12일간 병원 치료를 받다가 같은 달 25일 퇴원했다.',\n",
       " '이후 입원 치료를 거부하며 알약 형태의 항암제를 집에서 복용해온 것으로 알려졌다.',\n",
       " '민 전 비서관은 이날 JTBC와의 인터뷰에서 “전 전 대통령이 화이자 백신 접종 후 혈액암에 걸렸으며 부작용이 의심된다”고 말했다.',\n",
       " '그는 “지난 6, 7월쯤 전 전 대통령을 찾아뵀는데 얼굴이 굉장히 수척해진 모습으로 건강이 좋아 보이지 않았다”면서 “부인 이순자 여사께 ‘왜 그러시냐’고 물었더니, ‘코로나 백신을 맞은 후 식사를 잘 못 하셔서, 체중이 10kg가량 줄었다’더라”라고 전했다.',\n",
       " '민 전 비서관은 “전 전 대통령은 화이자를 맞은 것으로 알고 있고, 정확한 백신 접종 시기는 알지 못한다”고 덧붙였다.',\n",
       " '코로나 백신 부작용으로 가족이 사망했다고 주장하는 유족들이 19일 정은경 질병관리청장에게 항의했다.',\n",
       " '정 청장이 코로나 바이러스 백신 추가 접종(부스터샷)을 하고 나오는 길에 일어난 일이다.']"
      ]
     },
     "execution_count": 6,
     "metadata": {},
     "output_type": "execute_result"
    }
   ],
   "source": [
    "# kss 문장 분리\n",
    "sent_split_lst = []\n",
    "idx = 0\n",
    "\n",
    "for content in tqdm(content_lst):\n",
    "    if \"\\r\" in content:\n",
    "        content = content.replace(\"\\r\", \" \")\n",
    "    if \"\\u200b\" in content:\n",
    "        content = content.replace(\"\\u200b\", \"\")\n",
    "    try:\n",
    "        sent_split_lst.extend(split_sentences(content))\n",
    "    except:\n",
    "        print(f'SENT SPLIT ERROR: {idx}, {content[:50]}')\n",
    "    idx += 1\n",
    "\n",
    "sent_split_lst[:20]"
   ]
  },
  {
   "cell_type": "code",
   "execution_count": 8,
   "metadata": {},
   "outputs": [
    {
     "data": {
      "text/plain": [
       "4044"
      ]
     },
     "execution_count": 8,
     "metadata": {},
     "output_type": "execute_result"
    }
   ],
   "source": [
    "len(sent_split_lst)"
   ]
  },
  {
   "cell_type": "code",
   "execution_count": 10,
   "metadata": {},
   "outputs": [
    {
     "name": "stderr",
     "output_type": "stream",
     "text": [
      "100%|██████████| 4044/4044 [00:00<00:00, 238565.46it/s]\n"
     ]
    }
   ],
   "source": [
    "with open('../data/news_sentence_split.txt', 'w', encoding='utf-8') as f:\n",
    "    \n",
    "    for sent in tqdm(sent_split_lst):\n",
    "        f.write(sent + '\\n')"
   ]
  }
 ],
 "metadata": {
  "interpreter": {
   "hash": "793d4bdf4aa091947cd8281459d6e8fe833d5ec676b0ac200c31417438349ef7"
  },
  "kernelspec": {
   "display_name": "Python 3.8.11 64-bit ('condaenv': conda)",
   "language": "python",
   "name": "python3"
  },
  "language_info": {
   "codemirror_mode": {
    "name": "ipython",
    "version": 3
   },
   "file_extension": ".py",
   "mimetype": "text/x-python",
   "name": "python",
   "nbconvert_exporter": "python",
   "pygments_lexer": "ipython3",
   "version": "3.8.11"
  },
  "orig_nbformat": 4
 },
 "nbformat": 4,
 "nbformat_minor": 2
}
