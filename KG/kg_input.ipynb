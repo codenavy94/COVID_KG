{
 "cells": [
  {
   "cell_type": "code",
   "execution_count": 12,
   "metadata": {},
   "outputs": [],
   "source": [
    "import pandas as pd"
   ]
  },
  {
   "cell_type": "code",
   "execution_count": 13,
   "metadata": {},
   "outputs": [
    {
     "data": {
      "text/html": [
       "<div>\n",
       "<style scoped>\n",
       "    .dataframe tbody tr th:only-of-type {\n",
       "        vertical-align: middle;\n",
       "    }\n",
       "\n",
       "    .dataframe tbody tr th {\n",
       "        vertical-align: top;\n",
       "    }\n",
       "\n",
       "    .dataframe thead th {\n",
       "        text-align: right;\n",
       "    }\n",
       "</style>\n",
       "<table border=\"1\" class=\"dataframe\">\n",
       "  <thead>\n",
       "    <tr style=\"text-align: right;\">\n",
       "      <th></th>\n",
       "      <th>re_tag</th>\n",
       "      <th>text</th>\n",
       "    </tr>\n",
       "  </thead>\n",
       "  <tbody>\n",
       "    <tr>\n",
       "      <th>0</th>\n",
       "      <td>Other</td>\n",
       "      <td>현재 코로나19 백신 약물 이상반응 중 국내외에서 인과관계가 인정되는 이상반응에는 ...</td>\n",
       "    </tr>\n",
       "    <tr>\n",
       "      <th>1</th>\n",
       "      <td>Accompanies</td>\n",
       "      <td>&lt;e1&gt; 아나필락시스 쇼크는 &lt;/e1&gt; 특정 항원에 반응하는 급성 전신 알레르기 질...</td>\n",
       "    </tr>\n",
       "    <tr>\n",
       "      <th>2</th>\n",
       "      <td>Triggers</td>\n",
       "      <td>현재 국내에서 접종 중인 아스트라제네카와 &lt;e1&gt; 화이자 &lt;/e1&gt; 백신 모두 국소...</td>\n",
       "    </tr>\n",
       "    <tr>\n",
       "      <th>3</th>\n",
       "      <td>Accompanies</td>\n",
       "      <td>최근에는 심근염이나 &lt;e1&gt; 심낭염의 &lt;/e1&gt; 위험이 드물게 있고, 심장이 빠르게...</td>\n",
       "    </tr>\n",
       "    <tr>\n",
       "      <th>4</th>\n",
       "      <td>Triggers</td>\n",
       "      <td>한국에서는 지난달 31일 &lt;e1&gt; AZ백신 &lt;/e1&gt; 접종자 327만명 중 첫 &lt;e...</td>\n",
       "    </tr>\n",
       "  </tbody>\n",
       "</table>\n",
       "</div>"
      ],
      "text/plain": [
       "        re_tag                                               text\n",
       "0        Other  현재 코로나19 백신 약물 이상반응 중 국내외에서 인과관계가 인정되는 이상반응에는 ...\n",
       "1  Accompanies  <e1> 아나필락시스 쇼크는 </e1> 특정 항원에 반응하는 급성 전신 알레르기 질...\n",
       "2     Triggers  현재 국내에서 접종 중인 아스트라제네카와 <e1> 화이자 </e1> 백신 모두 국소...\n",
       "3  Accompanies  최근에는 심근염이나 <e1> 심낭염의 </e1> 위험이 드물게 있고, 심장이 빠르게...\n",
       "4     Triggers  한국에서는 지난달 31일 <e1> AZ백신 </e1> 접종자 327만명 중 첫 <e..."
      ]
     },
     "execution_count": 13,
     "metadata": {},
     "output_type": "execute_result"
    }
   ],
   "source": [
    "train = pd.read_csv('../R-BERT-master/data/train.tsv', sep='\\t', names=['re_tag', 'text'])\n",
    "train.head()"
   ]
  },
  {
   "cell_type": "code",
   "execution_count": 14,
   "metadata": {},
   "outputs": [
    {
     "data": {
      "text/html": [
       "<div>\n",
       "<style scoped>\n",
       "    .dataframe tbody tr th:only-of-type {\n",
       "        vertical-align: middle;\n",
       "    }\n",
       "\n",
       "    .dataframe tbody tr th {\n",
       "        vertical-align: top;\n",
       "    }\n",
       "\n",
       "    .dataframe thead th {\n",
       "        text-align: right;\n",
       "    }\n",
       "</style>\n",
       "<table border=\"1\" class=\"dataframe\">\n",
       "  <thead>\n",
       "    <tr style=\"text-align: right;\">\n",
       "      <th></th>\n",
       "      <th>re_tag</th>\n",
       "      <th>text</th>\n",
       "    </tr>\n",
       "  </thead>\n",
       "  <tbody>\n",
       "    <tr>\n",
       "      <th>0</th>\n",
       "      <td>Other</td>\n",
       "      <td>연구팀은 백신 접종 후 후유증이라고 알려진 뇌염, &lt;e1&gt; 골수염, &lt;/e1&gt; 급성...</td>\n",
       "    </tr>\n",
       "    <tr>\n",
       "      <th>1</th>\n",
       "      <td>Other</td>\n",
       "      <td>이어 이 환자의 확인된 기저질환은 없다며 사망진단서상 직접사인은 뇌출혈로, &lt;e1&gt;...</td>\n",
       "    </tr>\n",
       "    <tr>\n",
       "      <th>2</th>\n",
       "      <td>Other</td>\n",
       "      <td>특히 &lt;e1&gt; 저림 &lt;/e1&gt; 시력저하 &lt;e2&gt; 피부발진 &lt;/e2&gt; 부정맥 증상이 ...</td>\n",
       "    </tr>\n",
       "    <tr>\n",
       "      <th>3</th>\n",
       "      <td>Other</td>\n",
       "      <td>&lt;e1&gt; 아나필락시스 쇼크는 &lt;/e1&gt; 음식물, 독소, 백신 등 특정 외부 항원이 ...</td>\n",
       "    </tr>\n",
       "    <tr>\n",
       "      <th>4</th>\n",
       "      <td>Other</td>\n",
       "      <td>대부분은 수일 이내로 사라지고, 적절한 휴식을 취하거나 아니면 통증이나 부기, 발적...</td>\n",
       "    </tr>\n",
       "  </tbody>\n",
       "</table>\n",
       "</div>"
      ],
      "text/plain": [
       "  re_tag                                               text\n",
       "0  Other  연구팀은 백신 접종 후 후유증이라고 알려진 뇌염, <e1> 골수염, </e1> 급성...\n",
       "1  Other  이어 이 환자의 확인된 기저질환은 없다며 사망진단서상 직접사인은 뇌출혈로, <e1>...\n",
       "2  Other  특히 <e1> 저림 </e1> 시력저하 <e2> 피부발진 </e2> 부정맥 증상이 ...\n",
       "3  Other  <e1> 아나필락시스 쇼크는 </e1> 음식물, 독소, 백신 등 특정 외부 항원이 ...\n",
       "4  Other  대부분은 수일 이내로 사라지고, 적절한 휴식을 취하거나 아니면 통증이나 부기, 발적..."
      ]
     },
     "execution_count": 14,
     "metadata": {},
     "output_type": "execute_result"
    }
   ],
   "source": [
    "test = pd.read_csv('../R-BERT-master/data/test.tsv', sep='\\t', names=['re_tag', 'text'])\n",
    "test.head()"
   ]
  },
  {
   "cell_type": "code",
   "execution_count": 15,
   "metadata": {},
   "outputs": [
    {
     "name": "stdout",
     "output_type": "stream",
     "text": [
      "<class 'pandas.core.frame.DataFrame'>\n",
      "Int64Index: 2392 entries, 0 to 239\n",
      "Data columns (total 2 columns):\n",
      " #   Column  Non-Null Count  Dtype \n",
      "---  ------  --------------  ----- \n",
      " 0   re_tag  2392 non-null   object\n",
      " 1   text    2392 non-null   object\n",
      "dtypes: object(2)\n",
      "memory usage: 56.1+ KB\n"
     ]
    }
   ],
   "source": [
    "total = pd.concat([train, test])\n",
    "total.info()"
   ]
  },
  {
   "cell_type": "code",
   "execution_count": 16,
   "metadata": {},
   "outputs": [
    {
     "data": {
      "text/html": [
       "<div>\n",
       "<style scoped>\n",
       "    .dataframe tbody tr th:only-of-type {\n",
       "        vertical-align: middle;\n",
       "    }\n",
       "\n",
       "    .dataframe tbody tr th {\n",
       "        vertical-align: top;\n",
       "    }\n",
       "\n",
       "    .dataframe thead th {\n",
       "        text-align: right;\n",
       "    }\n",
       "</style>\n",
       "<table border=\"1\" class=\"dataframe\">\n",
       "  <thead>\n",
       "    <tr style=\"text-align: right;\">\n",
       "      <th></th>\n",
       "      <th>re_tag</th>\n",
       "      <th>text</th>\n",
       "    </tr>\n",
       "  </thead>\n",
       "  <tbody>\n",
       "    <tr>\n",
       "      <th>0</th>\n",
       "      <td>Other</td>\n",
       "      <td>현재 코로나19 백신 약물 이상반응 중 국내외에서 인과관계가 인정되는 이상반응에는 ...</td>\n",
       "    </tr>\n",
       "    <tr>\n",
       "      <th>1</th>\n",
       "      <td>Accompanies</td>\n",
       "      <td>&lt;e1&gt; 아나필락시스 쇼크는 &lt;/e1&gt; 특정 항원에 반응하는 급성 전신 알레르기 질...</td>\n",
       "    </tr>\n",
       "    <tr>\n",
       "      <th>2</th>\n",
       "      <td>Triggers</td>\n",
       "      <td>현재 국내에서 접종 중인 아스트라제네카와 &lt;e1&gt; 화이자 &lt;/e1&gt; 백신 모두 국소...</td>\n",
       "    </tr>\n",
       "    <tr>\n",
       "      <th>3</th>\n",
       "      <td>Accompanies</td>\n",
       "      <td>최근에는 심근염이나 &lt;e1&gt; 심낭염의 &lt;/e1&gt; 위험이 드물게 있고, 심장이 빠르게...</td>\n",
       "    </tr>\n",
       "    <tr>\n",
       "      <th>4</th>\n",
       "      <td>Triggers</td>\n",
       "      <td>한국에서는 지난달 31일 &lt;e1&gt; AZ백신 &lt;/e1&gt; 접종자 327만명 중 첫 &lt;e...</td>\n",
       "    </tr>\n",
       "  </tbody>\n",
       "</table>\n",
       "</div>"
      ],
      "text/plain": [
       "        re_tag                                               text\n",
       "0        Other  현재 코로나19 백신 약물 이상반응 중 국내외에서 인과관계가 인정되는 이상반응에는 ...\n",
       "1  Accompanies  <e1> 아나필락시스 쇼크는 </e1> 특정 항원에 반응하는 급성 전신 알레르기 질...\n",
       "2     Triggers  현재 국내에서 접종 중인 아스트라제네카와 <e1> 화이자 </e1> 백신 모두 국소...\n",
       "3  Accompanies  최근에는 심근염이나 <e1> 심낭염의 </e1> 위험이 드물게 있고, 심장이 빠르게...\n",
       "4     Triggers  한국에서는 지난달 31일 <e1> AZ백신 </e1> 접종자 327만명 중 첫 <e..."
      ]
     },
     "execution_count": 16,
     "metadata": {},
     "output_type": "execute_result"
    }
   ],
   "source": [
    "total.head()"
   ]
  },
  {
   "cell_type": "code",
   "execution_count": null,
   "metadata": {},
   "outputs": [],
   "source": [
    "relation_ne_tag_match = {\n",
    "    'Triggers':('VACC', 'DIS'),\n",
    "    'Triggers':('VACC', 'SYMP'),\n",
    "    ''\n",
    "}"
   ]
  }
 ],
 "metadata": {
  "interpreter": {
   "hash": "eb98f1078c0bf0908da4d541c97382695dcf7ee9c0c20aad61f626557213d022"
  },
  "kernelspec": {
   "display_name": "Python 3.8.11 64-bit ('workspace': conda)",
   "language": "python",
   "name": "python3"
  },
  "language_info": {
   "codemirror_mode": {
    "name": "ipython",
    "version": 3
   },
   "file_extension": ".py",
   "mimetype": "text/x-python",
   "name": "python",
   "nbconvert_exporter": "python",
   "pygments_lexer": "ipython3",
   "version": "3.8.11"
  },
  "orig_nbformat": 4
 },
 "nbformat": 4,
 "nbformat_minor": 2
}
