{
 "cells": [
  {
   "cell_type": "code",
   "execution_count": 1,
   "metadata": {},
   "outputs": [],
   "source": [
    "from tqdm import tqdm\n",
    "from py2neo import Node, Relationship, Graph, Schema\n",
    "\n",
    "\n",
    "class KnowledgeGraph(object):\n",
    "\n",
    "    def __init__(self, url='bolt://localhost:7687', name='neo4j', auth=('neo4j','0000')):\n",
    "        self.url = url\n",
    "        self.name = name\n",
    "        self.auth = auth\n",
    "        self.graph = Graph(self.url, name=self.name, auth=self.auth)\n",
    "        self.schema = Schema(self.graph)\n",
    "        self.node_labels = ['O', 'VACC', 'SYMP', 'DIS']\n",
    "        \n",
    "        for label in self.node_labels:\n",
    "            unique_constraints = self.schema.get_uniqueness_constraints(label)\n",
    "            if \"name\" not in unique_constraints:\n",
    "                self.schema.create_uniqueness_constraint(label, \"name\")\n",
    "\n",
    "    def __call__(self, triples):\n",
    "        \"\"\"\n",
    "        List[tuple]\n",
    "        \"\"\"\n",
    "        for item in tqdm(triples, desc=\"GraphDB\"):\n",
    "            transaction = self.graph.begin()\n",
    "            relation, subj_name, obj_name, subj_label, obj_label = item\n",
    "            subj, obj = Node(subj_label, name=subj_name), Node(obj_label, name=obj_name)\n",
    "            relationship = Relationship(subj, relation, obj)\n",
    "            transaction.merge(subj, subj_label, \"name\")\n",
    "            transaction.merge(obj, obj_label, \"name\")\n",
    "            transaction.merge(relationship)\n",
    "            self.graph.commit(transaction)"
   ]
  },
  {
   "cell_type": "code",
   "execution_count": 2,
   "metadata": {},
   "outputs": [
    {
     "name": "stderr",
     "output_type": "stream",
     "text": [
      "GraphDB: 100%|██████████| 2/2 [00:01<00:00,  1.34it/s]\n"
     ]
    }
   ],
   "source": [
    "kg = KnowledgeGraph()\n",
    "triples=[('Triggers','화이자','근육통','VACC','SYMP'),('Triggers','화이자','몸살','VACC','SYMP')]\n",
    "kg(triples)"
   ]
  }
 ],
 "metadata": {
  "interpreter": {
   "hash": "eb98f1078c0bf0908da4d541c97382695dcf7ee9c0c20aad61f626557213d022"
  },
  "kernelspec": {
   "display_name": "Python 3.8.11 64-bit ('workspace': conda)",
   "language": "python",
   "name": "python3"
  },
  "language_info": {
   "codemirror_mode": {
    "name": "ipython",
    "version": 3
   },
   "file_extension": ".py",
   "mimetype": "text/x-python",
   "name": "python",
   "nbconvert_exporter": "python",
   "pygments_lexer": "ipython3",
   "version": "3.8.11"
  },
  "orig_nbformat": 4
 },
 "nbformat": 4,
 "nbformat_minor": 2
}
