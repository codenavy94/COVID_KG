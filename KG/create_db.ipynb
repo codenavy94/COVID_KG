{
 "cells": [
  {
   "cell_type": "code",
   "execution_count": 3,
   "metadata": {},
   "outputs": [],
   "source": [
    "from tqdm import tqdm\n",
    "from py2neo import Node, Relationship, Graph, Schema\n",
    "import pandas as pd\n",
    "\n",
    "class KnowledgeGraph(object):\n",
    "\n",
    "    def __init__(self, url='bolt://localhost:7687', name='neo4j', auth=('neo4j','0000')):\n",
    "        self.url = url\n",
    "        self.name = name\n",
    "        self.auth = auth\n",
    "        self.graph = Graph(self.url, name=self.name, auth=self.auth)\n",
    "        self.schema = Schema(self.graph)\n",
    "        self.node_labels = ['O', 'VACC', 'SYMP', 'DIS']\n",
    "        \n",
    "        for label in self.node_labels:\n",
    "            unique_constraints = self.schema.get_uniqueness_constraints(label)\n",
    "            if \"name\" not in unique_constraints:\n",
    "                self.schema.create_uniqueness_constraint(label, \"name\")\n",
    "\n",
    "    def __call__(self, triples):\n",
    "        \"\"\"\n",
    "        List[tuple]\n",
    "        \"\"\"\n",
    "        for item in tqdm(triples, desc=\"GraphDB\"):\n",
    "            transaction = self.graph.begin()\n",
    "            relation, subj_name, obj_name, subj_label, obj_label = item\n",
    "            subj, obj = Node(subj_label, name=subj_name), Node(obj_label, name=obj_name)\n",
    "            relationship = Relationship(subj, relation, obj)\n",
    "            transaction.merge(subj, subj_label, \"name\")\n",
    "            transaction.merge(obj, obj_label, \"name\")\n",
    "            transaction.merge(relationship)\n",
    "            self.graph.commit(transaction)"
   ]
  },
  {
   "cell_type": "code",
   "execution_count": 2,
   "metadata": {},
   "outputs": [
    {
     "name": "stderr",
     "output_type": "stream",
     "text": [
      "GraphDB: 100%|██████████| 2/2 [00:01<00:00,  1.34it/s]\n"
     ]
    }
   ],
   "source": [
    "# 예시\n",
    "\n",
    "# kg = KnowledgeGraph()\n",
    "# triples=[('Triggers','화이자','근육통','VACC','SYMP'),('Triggers','화이자','몸살','VACC','SYMP')]\n",
    "# kg(triples)"
   ]
  },
  {
   "cell_type": "code",
   "execution_count": 4,
   "metadata": {},
   "outputs": [
    {
     "name": "stderr",
     "output_type": "stream",
     "text": [
      "GraphDB: 100%|██████████| 859/859 [00:19<00:00, 44.17it/s]\n"
     ]
    }
   ],
   "source": [
    "kg_input_info = pd.read_csv('kg_input_required_info_filtered.tsv', sep='\\t', encoding='utf-8')\n",
    "\n",
    "re_tags = kg_input_info['re_tag']\n",
    "e1s = kg_input_info['new_e1']\n",
    "e2s = kg_input_info['new_e2']\n",
    "e1_tags = kg_input_info['e1_tag']\n",
    "e2_tags = kg_input_info['e2_tag']\n",
    "\n",
    "triples = list(zip(re_tags, e1s, e2s, e1_tags, e2_tags))\n",
    "\n",
    "kg = KnowledgeGraph()\n",
    "kg(triples)"
   ]
  }
 ],
 "metadata": {
  "interpreter": {
   "hash": "eb98f1078c0bf0908da4d541c97382695dcf7ee9c0c20aad61f626557213d022"
  },
  "kernelspec": {
   "display_name": "Python 3.8.11 64-bit ('workspace': conda)",
   "language": "python",
   "name": "python3"
  },
  "language_info": {
   "codemirror_mode": {
    "name": "ipython",
    "version": 3
   },
   "file_extension": ".py",
   "mimetype": "text/x-python",
   "name": "python",
   "nbconvert_exporter": "python",
   "pygments_lexer": "ipython3",
   "version": "3.8.11"
  },
  "orig_nbformat": 4
 },
 "nbformat": 4,
 "nbformat_minor": 2
}
