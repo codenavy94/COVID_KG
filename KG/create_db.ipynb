{
 "cells": [
  {
   "cell_type": "code",
   "execution_count": null,
   "metadata": {},
   "outputs": [],
   "source": [
    "from tqdm import tqdm\n",
    "from py2neo import Node, Relationship, Graph, Schema\n",
    "\n",
    "\n",
    "class KnowledgeGraph(object):\n",
    "\n",
    "    def __init__(self, url='bolt://localhost:7687', name='neo4j', auth=('neo4j','0000')):\n",
    "        self.url = url\n",
    "        self.name = name\n",
    "        self.auth = auth\n",
    "        self.graph = Graph(self.url, name=self.name, auth=self.auth)\n",
    "        self.schema = Schema(self.graph)\n",
    "        self.node_labels = ['O', 'VACC', 'SYMP', 'DIS']\n",
    "        \n",
    "        for label in self.node_labels:\n",
    "            unique_constraints = self.schema.get_uniqueness_constraints(label)\n",
    "            if \"name\" not in unique_constraints:\n",
    "                self.schema.create_uniqueness_constraint(label, \"name\")\n",
    "\n",
    "    def __call__(self, triples):\n",
    "        \"\"\"\n",
    "        List[tuple]\n",
    "        \"\"\"\n",
    "        for item in tqdm(triples, desc=\"GraphDB\"):\n",
    "            transaction = self.graph.begin()\n",
    "            relation, subj_name, obj_name, subj_label, obj_label = item\n",
    "            subj, obj = Node(subj_label, name=subj_name), Node(obj_label, name=obj_name)\n",
    "            relationship = Relationship(subj, relation, obj)\n",
    "            transaction.merge(subj, subj_label, \"name\")\n",
    "            transaction.merge(obj, obj_label, \"name\")\n",
    "            transaction.merge(relationship)\n",
    "            self.graph.commit(transaction)"
   ]
  }
 ],
 "metadata": {
  "language_info": {
   "name": "python"
  },
  "orig_nbformat": 4
 },
 "nbformat": 4,
 "nbformat_minor": 2
}
