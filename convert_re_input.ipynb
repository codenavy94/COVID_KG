{
  "nbformat": 4,
  "nbformat_minor": 0,
  "metadata": {
    "colab": {
      "name": "convert_re_input.ipynb",
      "provenance": [],
      "collapsed_sections": []
    },
    "kernelspec": {
      "name": "python3",
      "display_name": "Python 3"
    },
    "language_info": {
      "name": "python"
    }
  },
  "cells": [
    {
      "cell_type": "code",
      "execution_count": 28,
      "metadata": {
        "colab": {
          "base_uri": "https://localhost:8080/"
        },
        "id": "69qTFZOy4SW_",
        "outputId": "5081169f-f746-4b45-b28e-b6d4c7d7a95c"
      },
      "outputs": [
        {
          "output_type": "stream",
          "name": "stdout",
          "text": [
            "Drive already mounted at /content/drive; to attempt to forcibly remount, call drive.mount(\"/content/drive\", force_remount=True).\n"
          ]
        }
      ],
      "source": [
        "from google.colab import drive\n",
        "drive.mount('/content/drive')"
      ]
    },
    {
      "cell_type": "code",
      "source": [
        "cd /content/drive/MyDrive/딥러닝 자연어처리"
      ],
      "metadata": {
        "colab": {
          "base_uri": "https://localhost:8080/"
        },
        "id": "ps8_n8br4UQm",
        "outputId": "224cbd94-8ca8-4094-f3c4-09af0ac8b055"
      },
      "execution_count": 29,
      "outputs": [
        {
          "output_type": "stream",
          "name": "stdout",
          "text": [
            "/content/drive/MyDrive/딥러닝 자연어처리\n"
          ]
        }
      ]
    },
    {
      "cell_type": "code",
      "source": [
        "# sent_list=[['배에', '가스가', '차서', '방귀,', '트림', '등이', '생기는', '것이', '거짓증세는' ,'아니라는', '설명이다', '.'],\n",
        "#            ['경찰청' ,'사이버수사국은','청소년의', '신종' ,'코로나바이러스' ,'감염증(코로나19)', '백신' ,'접종을' ,'앞두고', '과학적·실증적', '근거' ,'없이' ,'국민' ,'불안감을', '가중하는', '악의적·조직적' ,'허위조작정보' ,'유포', '및', '개인정보', '유출에', '대해' ,'엄정' ,'수사하겠다고' ,'30일', '밝혔다', '.'],\n",
        "#            ['최근', '우리나라뿐', '아니라', '앞서', '전', '세계', '많은', '여성이', '백신', '접종', '시작', '이후', '온라인에서', '생리', '불순이나', '평소보다' ,'심한', '생리통이' ,'혹시' ,'알려지지', '않은' ,'코로나', '백신', '부작용인지', '묻기', '시작했다', '.']]\n",
        "# tag_list=[['O', 'SYMP-B', 'O', 'O', 'O', 'O', 'O', 'O', 'O', 'O', 'O', 'O'],\n",
        "#           [\t'O' ,'O' ,'O', 'O', 'O', 'O', 'O', 'O', 'O', 'O', 'O', 'O', 'O', 'O', 'O', 'O', 'O', 'O', 'O', 'O', 'O', 'O', 'O', 'O', 'O', 'O', 'O',],\n",
        "#           [\t'O', 'O', 'O', 'O', 'O' ,'O', 'O', 'O', 'O', 'O', 'O', 'O', 'O', 'SYMP-B', 'SYMP-I', 'O', 'O', 'O', 'O', 'O', 'O', 'O', 'O', 'O', 'O', 'O', 'O']]"
      ],
      "metadata": {
        "id": "w7R28n2H4cfq"
      },
      "execution_count": 30,
      "outputs": []
    },
    {
      "cell_type": "code",
      "source": [
        "sent_list = [['아스트라제네카와', '얀센', '백신의', '희귀', '혈전증과', '화이자', '백신의', '심근염이', '새로', '발견된', '가능한', '부작용의', '예다', '.']]\n",
        "tag_list = [['VACC-B', 'VACC-B', 'O', 'DIS-B', 'DIS-I', 'VACC-B', 'O', 'DIS-B', 'O', 'O', 'O', 'O', 'O', 'O']]"
      ],
      "metadata": {
        "id": "S-Fet8V4UYcz"
      },
      "execution_count": 43,
      "outputs": []
    },
    {
      "cell_type": "code",
      "source": [
        "from itertools import combinations\n",
        "\n",
        "def merge_tags(tags):\n",
        "        prior = False\n",
        "        prior_tag = False\n",
        "        chunk_dict, chunk_id = dict(), 0\n",
        "        for i, tag in enumerate(tags):\n",
        "            bio = tag[-1]\n",
        "            if bio == \"B\":\n",
        "                if prior:\n",
        "                    chunk_dict[chunk_id]['end'] = i - 1\n",
        "                chunk_id += 1\n",
        "                chunk_dict[chunk_id] = {\"entity_type\": tag[:-2], \"begin\": i, \"end\": i}\n",
        "                prior = True\n",
        "                prior_tag = chunk_dict[chunk_id]['entity_type']  # 'SYMP'\n",
        "                #print(prior_tag)\n",
        "            elif bio == \"I\":\n",
        "                if (prior_tag == False) or (tag[:-2] != prior_tag) : # 앞전의 태그가 O였거나 다른 태그였던 경우\n",
        "                    #print(prior_tag, bio)\n",
        "                    chunk_id +=1\n",
        "                    chunk_dict[chunk_id] = {\"entity_type\": tag[:-2], \"begin\": i, \"end\": i}\n",
        "                    prior = True\n",
        "                    prior_tag =chunk_dict[chunk_id]['entity_type'] \n",
        "                else: # 앞전의 태그와 동일한 태그가 이어서 나온 경우\n",
        "                    chunk_dict[chunk_id]['end'] = i \n",
        "            elif bio == \"O\":\n",
        "                if prior:\n",
        "                    chunk_dict[chunk_id]['end'] = i - 1\n",
        "                prior = False\n",
        "                prior_tag = False\n",
        "        return chunk_dict\n",
        "    \n",
        "def to_relation_format(sent_list, tag_list):\n",
        "        result = []\n",
        "        for sent, tags in zip(sent_list, tag_list):\n",
        "            \n",
        "            #print(sent,tags)\n",
        "            chunk_dict = merge_tags(tags)\n",
        "            #print(chunk_dict)\n",
        "            if len(chunk_dict) < 2:  # 엔티티 갯수가 2개 이상일 때만 포함\n",
        "                continue\n",
        "            for subj, obj in combinations(chunk_dict, 2):\n",
        "                #print(chunk_dict[subj], chunk_dict[obj])\n",
        "                re_sent = sent.copy()\n",
        "                subj, obj = chunk_dict[subj], chunk_dict[obj]\n",
        "                subj_begin, subj_end, obj_begin, obj_end = subj['begin'], subj['end'], obj['begin'], obj['end']\n",
        "                re_sent[subj_begin] = \"<e1>\" + re_sent[subj_begin]\n",
        "                re_sent[subj_end] = re_sent[subj_end] + \"</e1>\"\n",
        "                re_sent[obj_begin] = \"<e2>\" + re_sent[obj_begin]\n",
        "                re_sent[obj_end] = re_sent[obj_end] + \"</e2>\"\n",
        "                result.append((\" \".join(re_sent), subj[\"entity_type\"], obj[\"entity_type\"]))\n",
        "        return result\n"
      ],
      "metadata": {
        "id": "ZcMpAH6x4TPW"
      },
      "execution_count": 63,
      "outputs": []
    },
    {
      "cell_type": "code",
      "source": [
        "to_relation_format(sent_list, tag_list)"
      ],
      "metadata": {
        "colab": {
          "base_uri": "https://localhost:8080/"
        },
        "id": "SrarlRI34fWT",
        "outputId": "00da3e79-1f07-4004-b638-7a45183dcd2d"
      },
      "execution_count": 64,
      "outputs": [
        {
          "output_type": "execute_result",
          "data": {
            "text/plain": [
              "[('<e1>아스트라제네카와</e1> <e2>얀센</e2> 백신의 희귀 혈전증과 화이자 백신의 심근염이 새로 발견된 가능한 부작용의 예다 .',\n",
              "  'VACC',\n",
              "  'VACC'),\n",
              " ('<e1>아스트라제네카와</e1> 얀센 백신의 <e2>희귀 혈전증과</e2> 화이자 백신의 심근염이 새로 발견된 가능한 부작용의 예다 .',\n",
              "  'VACC',\n",
              "  'DIS'),\n",
              " ('<e1>아스트라제네카와</e1> 얀센 백신의 희귀 혈전증과 <e2>화이자</e2> 백신의 심근염이 새로 발견된 가능한 부작용의 예다 .',\n",
              "  'VACC',\n",
              "  'VACC'),\n",
              " ('<e1>아스트라제네카와</e1> 얀센 백신의 희귀 혈전증과 화이자 백신의 <e2>심근염이</e2> 새로 발견된 가능한 부작용의 예다 .',\n",
              "  'VACC',\n",
              "  'DIS'),\n",
              " ('아스트라제네카와 <e1>얀센</e1> 백신의 <e2>희귀 혈전증과</e2> 화이자 백신의 심근염이 새로 발견된 가능한 부작용의 예다 .',\n",
              "  'VACC',\n",
              "  'DIS'),\n",
              " ('아스트라제네카와 <e1>얀센</e1> 백신의 희귀 혈전증과 <e2>화이자</e2> 백신의 심근염이 새로 발견된 가능한 부작용의 예다 .',\n",
              "  'VACC',\n",
              "  'VACC'),\n",
              " ('아스트라제네카와 <e1>얀센</e1> 백신의 희귀 혈전증과 화이자 백신의 <e2>심근염이</e2> 새로 발견된 가능한 부작용의 예다 .',\n",
              "  'VACC',\n",
              "  'DIS'),\n",
              " ('아스트라제네카와 얀센 백신의 <e1>희귀 혈전증과</e1> <e2>화이자</e2> 백신의 심근염이 새로 발견된 가능한 부작용의 예다 .',\n",
              "  'DIS',\n",
              "  'VACC'),\n",
              " ('아스트라제네카와 얀센 백신의 <e1>희귀 혈전증과</e1> 화이자 백신의 <e2>심근염이</e2> 새로 발견된 가능한 부작용의 예다 .',\n",
              "  'DIS',\n",
              "  'DIS'),\n",
              " ('아스트라제네카와 얀센 백신의 희귀 혈전증과 <e1>화이자</e1> 백신의 <e2>심근염이</e2> 새로 발견된 가능한 부작용의 예다 .',\n",
              "  'VACC',\n",
              "  'DIS')]"
            ]
          },
          "metadata": {},
          "execution_count": 64
        }
      ]
    }
  ]
}